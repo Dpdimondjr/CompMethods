{
 "cells": [
  {
   "cell_type": "code",
   "execution_count": 56,
   "metadata": {},
   "outputs": [],
   "source": [
    "'''\n",
    "Belousov-Zhabotinsky reaction:\n",
    "A non-equilibrium chemical oscillator w/ components that exhibit periodic changes in concetration\n",
    "'''\n",
    "\n",
    "# imports\n",
    "import numpy as np\n",
    "from scipy.signal import convolve2d\n",
    "import matplotlib.pyplot as plt\n",
    "from matplotlib.animation import FuncAnimation\n",
    "from IPython import display\n",
    "import cv2 as cv\n",
    "from PIL import Image"
   ]
  },
  {
   "cell_type": "code",
   "execution_count": 77,
   "metadata": {},
   "outputs": [],
   "source": [
    "Images = {\"PITT\":\"pittscript.jpg\",\"TREE\":\"tree.png\", \"CAT\":\"cat.jpg\"}\n",
    "\n",
    "I = Image.open(Images[\"CAT\"])\n",
    "I = np.array(cv.resize(np.array(I),(600,450)))\n",
    "#I = np.array(cv.threshold(I,127,255,cv.THRESH_BINARY))\n",
    "I = I[:,:,1]/255\n",
    "\n",
    "\n",
    "# Width, height of the image\n",
    "row, col = I.shape\n",
    "grid = []\n",
    "alpha, beta, gamma = .7, 1, 1"
   ]
  },
  {
   "cell_type": "code",
   "execution_count": 78,
   "metadata": {},
   "outputs": [],
   "source": [
    "def update_grid(p,grid):\n",
    "\n",
    "    # reacalculate the chemical concentrations across the grid over 1 time step\n",
    "    q = (p + 1) % 2\n",
    "    #print(q)\n",
    "    s = np.zeros((3, row, col))\n",
    "    m = np.ones((3,3))/9 # 3x3 averaging kernel\n",
    "    for k in range(3):\n",
    "        s[k] = convolve2d(grid[p,k], m, mode='same', boundary='wrap')\n",
    "    \n",
    "    # reaction equations\n",
    "    grid[q,0] = s[0] + s[0]*(alpha*s[1] - gamma*s[2])\n",
    "    grid[q,1] = s[1] + s[1]*(beta*s[2] - alpha*s[0])\n",
    "    grid[q,2] = s[2] + s[2]*(gamma*s[0] - beta*s[1])\n",
    "\n",
    "    np.clip(grid[q], 0, 1, grid[q])\n",
    "    return grid\n"
   ]
  },
  {
   "cell_type": "code",
   "execution_count": 79,
   "metadata": {},
   "outputs": [],
   "source": [
    "\n",
    "grid = np.random.random(size=(2, 3, row, col))\n",
    "\n",
    "grid[0][0][:,:] = grid[0][0][:,:]*I\n",
    "grid[0][1][:,:] = grid[0][0][:,:]*I\n",
    "grid[0][2][:,:] = grid[0][0][:,:]*I\n",
    "\n",
    "grid[1][0][:,:] = grid[0][0][:,:]*I\n",
    "grid[1][1][:,:] = grid[0][0][:,:]*I\n",
    "grid[1][2][:,:] = grid[0][0][:,:]*I\n"
   ]
  },
  {
   "cell_type": "code",
   "execution_count": null,
   "metadata": {},
   "outputs": [],
   "source": [
    "fig, ax = plt.subplots()\n",
    "im = ax.imshow(grid[0, 0], cmap = 'jet')\n",
    "ax.axis('off')\n",
    "\n",
    "def animate(i, grid):\n",
    "    grid = update_grid(i % 2, grid)\n",
    "    im.set_array(grid[i % 2, 0])\n",
    "    return im\n",
    "\n",
    "anim = FuncAnimation(fig, animate, frames=300, interval=30, blit=False, fargs=(grid,))\n",
    "video = anim.to_html5_video()\n",
    "plt.close()\n",
    "display.HTML(video)"
   ]
  },
  {
   "cell_type": "code",
   "execution_count": null,
   "metadata": {},
   "outputs": [],
   "source": []
  },
  {
   "cell_type": "code",
   "execution_count": null,
   "metadata": {},
   "outputs": [],
   "source": []
  }
 ],
 "metadata": {
  "kernelspec": {
   "display_name": "Python 3",
   "language": "python",
   "name": "python3"
  },
  "language_info": {
   "codemirror_mode": {
    "name": "ipython",
    "version": 3
   },
   "file_extension": ".py",
   "mimetype": "text/x-python",
   "name": "python",
   "nbconvert_exporter": "python",
   "pygments_lexer": "ipython3",
   "version": "3.6.6"
  }
 },
 "nbformat": 4,
 "nbformat_minor": 2
}
